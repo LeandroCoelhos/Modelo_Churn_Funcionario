{
  "nbformat": 4,
  "nbformat_minor": 0,
  "metadata": {
    "colab": {
      "name": "Churn de Funcionário.ipynb",
      "provenance": [],
      "authorship_tag": "ABX9TyPA3IoRjnunSe+rx6mEhT78",
      "include_colab_link": true
    },
    "kernelspec": {
      "name": "python3",
      "display_name": "Python 3"
    },
    "language_info": {
      "name": "python"
    }
  },
  "cells": [
    {
      "cell_type": "markdown",
      "metadata": {
        "id": "view-in-github",
        "colab_type": "text"
      },
      "source": [
        "<a href=\"https://colab.research.google.com/github/LeandroCoelhos/Modelo_Churn_Funcionario/blob/main/Churn_de_Funcion%C3%A1rio.ipynb\" target=\"_parent\"><img src=\"https://colab.research.google.com/assets/colab-badge.svg\" alt=\"Open In Colab\"/></a>"
      ]
    },
    {
      "cell_type": "markdown",
      "source": [
        "#Churn de Funcionário"
      ],
      "metadata": {
        "id": "FZJzC0yjXdhh"
      }
    },
    {
      "cell_type": "markdown",
      "source": [
        "#**Introdução**\n",
        "\n",
        "De uma forma geral, Churn pode ser entendido como o de desligamento entre o cliente e uma empresa. A perda de um cliente nunca é bom para um empresa, e poder prever quando isso ocorrerá traz muitas vantagens tanto para empresa, que pode se planejar para essa perda, quanto para o cliente, que pode ser ofertado planos para que ele permaneça, ou fazer acordo para sua saída em definitivo. Este último se aplica somente em algumas situações específicas.\n",
        "\n",
        "Tentaremos prever a saída dos funcionários da empresa ou a sua permanência no período dos proximos dois anos, a partir da coleta desses dados. Está nem sempre é uma tarefa facil, pois são muitas as variáveis que levam um funcionário a sair de uma empresa, mas através dos dados, tentaremos buscar alguns indicadores que tendem a fazer com que um funcionário deixe a empresa."
      ],
      "metadata": {
        "id": "40sLAMBmXkj-"
      }
    },
    {
      "cell_type": "markdown",
      "source": [
        "#Bibliotecas e Importação dos Dados\n",
        "\n"
      ],
      "metadata": {
        "id": "i7nCTrFXX43X"
      }
    },
    {
      "cell_type": "code",
      "source": [
        "import pandas as pd\n",
        "import numpy as np\n",
        "import matplotlib.pyplot as plt\n",
        "import seaborn as sns \n",
        "\n",
        "from sklearn.model_selection import cross_validate, RepeatedStratifiedKFold \n",
        "from sklearn.model_selection import train_test_split\n",
        "from sklearn.metrics import confusion_matrix\n",
        "from sklearn.metrics import f1_score\n",
        "from sklearn import metrics#ver redundancia\n",
        "\n",
        "from sklearn.model_selection import GridSearchCV\n",
        "\n",
        "from sklearn.ensemble import RandomTreesEmbedding, ExtraTreesClassifier, AdaBoostClassifier, GradientBoostingClassifier, VotingClassifier\n",
        "from sklearn.ensemble import RandomForestClassifier\n",
        "from sklearn.linear_model import LogisticRegression, Perceptron, PassiveAggressiveClassifier\n",
        "from sklearn.discriminant_analysis import LinearDiscriminantAnalysis, QuadraticDiscriminantAnalysis\n",
        "from sklearn.neighbors import KNeighborsClassifier\n",
        "from sklearn.ensemble import BaggingClassifier\n",
        "from sklearn.neural_network import MLPClassifier \n",
        "from sklearn.tree import DecisionTreeClassifier\n",
        "from sklearn.svm import SVC\n",
        "from sklearn.naive_bayes import GaussianNB\n",
        "from sklearn.dummy import DummyClassifier\n",
        "\n",
        "#from catboost import CatBoostClassifier\n",
        "\n",
        "import missingno as missing"
      ],
      "metadata": {
        "id": "KJ9hz_rcXkGT"
      },
      "execution_count": 1,
      "outputs": []
    },
    {
      "cell_type": "markdown",
      "source": [
        "#Importando o conjunto de dados fornecido\n",
        "\n",
        "O conjundo Treino será utilizado para o treinamento dos nossos modelos, ele contem a variável de interesse \"Saiu\", que tentaremos predizer no conjunto de dados de Teste, que não contem essa informação."
      ],
      "metadata": {
        "id": "ox5nlzlRYOfK"
      }
    },
    {
      "cell_type": "code",
      "source": [
        "url1 = 'https://raw.githubusercontent.com/LeandroCoelhos/Modelo_Churn_Funcionario/main/data/treino_6.csv'\n",
        "url2 = 'https://raw.githubusercontent.com/LeandroCoelhos/Modelo_Churn_Funcionario/main/data/teste_6.csv'\n",
        "\n",
        "treino = pd.read_csv(url1)\n",
        "teste = pd.read_csv(url2)"
      ],
      "metadata": {
        "id": "YgXGsI9TcoQ8"
      },
      "execution_count": 2,
      "outputs": []
    },
    {
      "cell_type": "markdown",
      "source": [
        "#Análise Exploratória\n",
        "\n"
      ],
      "metadata": {
        "id": "nYqHza5JYUpi"
      }
    },
    {
      "cell_type": "markdown",
      "source": [
        "Verificando se há valores nulos e tipos de colunas"
      ],
      "metadata": {
        "id": "HGooaOIvYZeC"
      }
    },
    {
      "cell_type": "code",
      "source": [
        "print(\"Valores no Conjunto de TREINO:\\n\")\n",
        "print(treino.info())"
      ],
      "metadata": {
        "colab": {
          "base_uri": "https://localhost:8080/"
        },
        "id": "2muMhAY5eG1R",
        "outputId": "815c977e-a267-4d39-fe10-c6560f86d9d2"
      },
      "execution_count": 3,
      "outputs": [
        {
          "output_type": "stream",
          "name": "stdout",
          "text": [
            "Valores no Conjunto de TREINO:\n",
            "\n",
            "<class 'pandas.core.frame.DataFrame'>\n",
            "RangeIndex: 2916 entries, 0 to 2915\n",
            "Data columns (total 10 columns):\n",
            " #   Column        Non-Null Count  Dtype \n",
            "---  ------        --------------  ----- \n",
            " 0   Escolaridade  2916 non-null   object\n",
            " 1   Entrada       2916 non-null   int64 \n",
            " 2   Cidade        2916 non-null   object\n",
            " 3   Salário       2916 non-null   int64 \n",
            " 4   Idade         2916 non-null   object\n",
            " 5   Sexo          2916 non-null   object\n",
            " 6   Projeto       2916 non-null   object\n",
            " 7   Experiência   2916 non-null   int64 \n",
            " 8   Saiu          2916 non-null   int64 \n",
            " 9   Feedbacks     2916 non-null   int64 \n",
            "dtypes: int64(5), object(5)\n",
            "memory usage: 227.9+ KB\n",
            "None\n"
          ]
        }
      ]
    },
    {
      "cell_type": "code",
      "source": [
        "print(\"Valores no Conjunto de TESTE:\\n\")\n",
        "print(teste.info())"
      ],
      "metadata": {
        "colab": {
          "base_uri": "https://localhost:8080/"
        },
        "id": "Z7ymay73eMp-",
        "outputId": "755cbca8-a768-4235-f25f-05f8cea2c8c1"
      },
      "execution_count": 4,
      "outputs": [
        {
          "output_type": "stream",
          "name": "stdout",
          "text": [
            "Valores no Conjunto de TESTE:\n",
            "\n",
            "<class 'pandas.core.frame.DataFrame'>\n",
            "RangeIndex: 1737 entries, 0 to 1736\n",
            "Data columns (total 9 columns):\n",
            " #   Column        Non-Null Count  Dtype \n",
            "---  ------        --------------  ----- \n",
            " 0   Escolaridade  1737 non-null   object\n",
            " 1   Entrada       1737 non-null   int64 \n",
            " 2   Cidade        1737 non-null   object\n",
            " 3   Salário       1737 non-null   int64 \n",
            " 4   Idade         1737 non-null   object\n",
            " 5   Sexo          1737 non-null   object\n",
            " 6   Projeto       1737 non-null   object\n",
            " 7   Experiência   1737 non-null   int64 \n",
            " 8   Feedbacks     1737 non-null   int64 \n",
            "dtypes: int64(4), object(5)\n",
            "memory usage: 122.3+ KB\n",
            "None\n"
          ]
        }
      ]
    },
    {
      "cell_type": "markdown",
      "source": [
        "O comando \"info\" mostra o total de observações em cada coluna, bem como o tipo de dado daquela coluna, se é numérico ou texto.\n",
        "\n",
        "Para o conjunto de treinamento temos 2916 linhas, com 10 colunas, sem nenhum dado faltante segundo essa contagem.\n",
        "\n",
        "Podemos ver que existem colunas com dados do tipo numéricos (int64) e campos de texto (objct). Este último, não é suportado por muitos algoritimos de ML, então precisaremos trata-lô posteriormente.\n",
        "\n",
        "Note também, que a coluna Idade está sendo interpretada como texto, precisamos olhar mais de perto o que esta acontecendo.\n"
      ],
      "metadata": {
        "id": "A60W6tWKeSsC"
      }
    },
    {
      "cell_type": "markdown",
      "source": [
        "Vizualizando o conjunto de dados"
      ],
      "metadata": {
        "id": "wOOOUa5wYe4y"
      }
    },
    {
      "cell_type": "code",
      "source": [
        "treino.head()"
      ],
      "metadata": {
        "colab": {
          "base_uri": "https://localhost:8080/",
          "height": 206
        },
        "id": "bjYxgyLUf7Di",
        "outputId": "06c389f1-9c80-4c49-cae9-246827d89580"
      },
      "execution_count": 5,
      "outputs": [
        {
          "output_type": "execute_result",
          "data": {
            "text/html": [
              "\n",
              "  <div id=\"df-8b23568e-3aa9-4689-ab8f-e824686b6629\">\n",
              "    <div class=\"colab-df-container\">\n",
              "      <div>\n",
              "<style scoped>\n",
              "    .dataframe tbody tr th:only-of-type {\n",
              "        vertical-align: middle;\n",
              "    }\n",
              "\n",
              "    .dataframe tbody tr th {\n",
              "        vertical-align: top;\n",
              "    }\n",
              "\n",
              "    .dataframe thead th {\n",
              "        text-align: right;\n",
              "    }\n",
              "</style>\n",
              "<table border=\"1\" class=\"dataframe\">\n",
              "  <thead>\n",
              "    <tr style=\"text-align: right;\">\n",
              "      <th></th>\n",
              "      <th>Escolaridade</th>\n",
              "      <th>Entrada</th>\n",
              "      <th>Cidade</th>\n",
              "      <th>Salário</th>\n",
              "      <th>Idade</th>\n",
              "      <th>Sexo</th>\n",
              "      <th>Projeto</th>\n",
              "      <th>Experiência</th>\n",
              "      <th>Saiu</th>\n",
              "      <th>Feedbacks</th>\n",
              "    </tr>\n",
              "  </thead>\n",
              "  <tbody>\n",
              "    <tr>\n",
              "      <th>0</th>\n",
              "      <td>Doutorado</td>\n",
              "      <td>2016</td>\n",
              "      <td>Natal</td>\n",
              "      <td>3</td>\n",
              "      <td>28</td>\n",
              "      <td>Feminino</td>\n",
              "      <td>Não</td>\n",
              "      <td>3</td>\n",
              "      <td>0</td>\n",
              "      <td>0</td>\n",
              "    </tr>\n",
              "    <tr>\n",
              "      <th>1</th>\n",
              "      <td>Doutorado</td>\n",
              "      <td>2014</td>\n",
              "      <td>Natal</td>\n",
              "      <td>3</td>\n",
              "      <td>36</td>\n",
              "      <td>Feminino</td>\n",
              "      <td>Não</td>\n",
              "      <td>3</td>\n",
              "      <td>0</td>\n",
              "      <td>1</td>\n",
              "    </tr>\n",
              "    <tr>\n",
              "      <th>2</th>\n",
              "      <td>Doutorado</td>\n",
              "      <td>2013</td>\n",
              "      <td>Natal</td>\n",
              "      <td>3</td>\n",
              "      <td>---</td>\n",
              "      <td>Masculino</td>\n",
              "      <td>Não</td>\n",
              "      <td>0</td>\n",
              "      <td>0</td>\n",
              "      <td>0</td>\n",
              "    </tr>\n",
              "    <tr>\n",
              "      <th>3</th>\n",
              "      <td>Doutorado</td>\n",
              "      <td>2016</td>\n",
              "      <td>Natal</td>\n",
              "      <td>3</td>\n",
              "      <td>---</td>\n",
              "      <td>Masculino</td>\n",
              "      <td>Não</td>\n",
              "      <td>2</td>\n",
              "      <td>1</td>\n",
              "      <td>0</td>\n",
              "    </tr>\n",
              "    <tr>\n",
              "      <th>4</th>\n",
              "      <td>Doutorado</td>\n",
              "      <td>2018</td>\n",
              "      <td>Natal</td>\n",
              "      <td>3</td>\n",
              "      <td>34</td>\n",
              "      <td>Masculino</td>\n",
              "      <td>Sim</td>\n",
              "      <td>5</td>\n",
              "      <td>1</td>\n",
              "      <td>0</td>\n",
              "    </tr>\n",
              "  </tbody>\n",
              "</table>\n",
              "</div>\n",
              "      <button class=\"colab-df-convert\" onclick=\"convertToInteractive('df-8b23568e-3aa9-4689-ab8f-e824686b6629')\"\n",
              "              title=\"Convert this dataframe to an interactive table.\"\n",
              "              style=\"display:none;\">\n",
              "        \n",
              "  <svg xmlns=\"http://www.w3.org/2000/svg\" height=\"24px\"viewBox=\"0 0 24 24\"\n",
              "       width=\"24px\">\n",
              "    <path d=\"M0 0h24v24H0V0z\" fill=\"none\"/>\n",
              "    <path d=\"M18.56 5.44l.94 2.06.94-2.06 2.06-.94-2.06-.94-.94-2.06-.94 2.06-2.06.94zm-11 1L8.5 8.5l.94-2.06 2.06-.94-2.06-.94L8.5 2.5l-.94 2.06-2.06.94zm10 10l.94 2.06.94-2.06 2.06-.94-2.06-.94-.94-2.06-.94 2.06-2.06.94z\"/><path d=\"M17.41 7.96l-1.37-1.37c-.4-.4-.92-.59-1.43-.59-.52 0-1.04.2-1.43.59L10.3 9.45l-7.72 7.72c-.78.78-.78 2.05 0 2.83L4 21.41c.39.39.9.59 1.41.59.51 0 1.02-.2 1.41-.59l7.78-7.78 2.81-2.81c.8-.78.8-2.07 0-2.86zM5.41 20L4 18.59l7.72-7.72 1.47 1.35L5.41 20z\"/>\n",
              "  </svg>\n",
              "      </button>\n",
              "      \n",
              "  <style>\n",
              "    .colab-df-container {\n",
              "      display:flex;\n",
              "      flex-wrap:wrap;\n",
              "      gap: 12px;\n",
              "    }\n",
              "\n",
              "    .colab-df-convert {\n",
              "      background-color: #E8F0FE;\n",
              "      border: none;\n",
              "      border-radius: 50%;\n",
              "      cursor: pointer;\n",
              "      display: none;\n",
              "      fill: #1967D2;\n",
              "      height: 32px;\n",
              "      padding: 0 0 0 0;\n",
              "      width: 32px;\n",
              "    }\n",
              "\n",
              "    .colab-df-convert:hover {\n",
              "      background-color: #E2EBFA;\n",
              "      box-shadow: 0px 1px 2px rgba(60, 64, 67, 0.3), 0px 1px 3px 1px rgba(60, 64, 67, 0.15);\n",
              "      fill: #174EA6;\n",
              "    }\n",
              "\n",
              "    [theme=dark] .colab-df-convert {\n",
              "      background-color: #3B4455;\n",
              "      fill: #D2E3FC;\n",
              "    }\n",
              "\n",
              "    [theme=dark] .colab-df-convert:hover {\n",
              "      background-color: #434B5C;\n",
              "      box-shadow: 0px 1px 3px 1px rgba(0, 0, 0, 0.15);\n",
              "      filter: drop-shadow(0px 1px 2px rgba(0, 0, 0, 0.3));\n",
              "      fill: #FFFFFF;\n",
              "    }\n",
              "  </style>\n",
              "\n",
              "      <script>\n",
              "        const buttonEl =\n",
              "          document.querySelector('#df-8b23568e-3aa9-4689-ab8f-e824686b6629 button.colab-df-convert');\n",
              "        buttonEl.style.display =\n",
              "          google.colab.kernel.accessAllowed ? 'block' : 'none';\n",
              "\n",
              "        async function convertToInteractive(key) {\n",
              "          const element = document.querySelector('#df-8b23568e-3aa9-4689-ab8f-e824686b6629');\n",
              "          const dataTable =\n",
              "            await google.colab.kernel.invokeFunction('convertToInteractive',\n",
              "                                                     [key], {});\n",
              "          if (!dataTable) return;\n",
              "\n",
              "          const docLinkHtml = 'Like what you see? Visit the ' +\n",
              "            '<a target=\"_blank\" href=https://colab.research.google.com/notebooks/data_table.ipynb>data table notebook</a>'\n",
              "            + ' to learn more about interactive tables.';\n",
              "          element.innerHTML = '';\n",
              "          dataTable['output_type'] = 'display_data';\n",
              "          await google.colab.output.renderOutput(dataTable, element);\n",
              "          const docLink = document.createElement('div');\n",
              "          docLink.innerHTML = docLinkHtml;\n",
              "          element.appendChild(docLink);\n",
              "        }\n",
              "      </script>\n",
              "    </div>\n",
              "  </div>\n",
              "  "
            ],
            "text/plain": [
              "  Escolaridade  Entrada Cidade  Salário  ... Projeto Experiência Saiu  Feedbacks\n",
              "0    Doutorado     2016  Natal        3  ...     Não           3    0          0\n",
              "1    Doutorado     2014  Natal        3  ...     Não           3    0          1\n",
              "2    Doutorado     2013  Natal        3  ...     Não           0    0          0\n",
              "3    Doutorado     2016  Natal        3  ...     Não           2    1          0\n",
              "4    Doutorado     2018  Natal        3  ...     Sim           5    1          0\n",
              "\n",
              "[5 rows x 10 columns]"
            ]
          },
          "metadata": {},
          "execution_count": 5
        }
      ]
    },
    {
      "cell_type": "code",
      "source": [
        "teste.head()"
      ],
      "metadata": {
        "colab": {
          "base_uri": "https://localhost:8080/",
          "height": 206
        },
        "id": "3ROplkcUgN02",
        "outputId": "ec50135a-c46d-4b19-8688-6d1019f31051"
      },
      "execution_count": 6,
      "outputs": [
        {
          "output_type": "execute_result",
          "data": {
            "text/html": [
              "\n",
              "  <div id=\"df-8ab9c830-15f7-4c64-ae4a-659ca14d3944\">\n",
              "    <div class=\"colab-df-container\">\n",
              "      <div>\n",
              "<style scoped>\n",
              "    .dataframe tbody tr th:only-of-type {\n",
              "        vertical-align: middle;\n",
              "    }\n",
              "\n",
              "    .dataframe tbody tr th {\n",
              "        vertical-align: top;\n",
              "    }\n",
              "\n",
              "    .dataframe thead th {\n",
              "        text-align: right;\n",
              "    }\n",
              "</style>\n",
              "<table border=\"1\" class=\"dataframe\">\n",
              "  <thead>\n",
              "    <tr style=\"text-align: right;\">\n",
              "      <th></th>\n",
              "      <th>Escolaridade</th>\n",
              "      <th>Entrada</th>\n",
              "      <th>Cidade</th>\n",
              "      <th>Salário</th>\n",
              "      <th>Idade</th>\n",
              "      <th>Sexo</th>\n",
              "      <th>Projeto</th>\n",
              "      <th>Experiência</th>\n",
              "      <th>Feedbacks</th>\n",
              "    </tr>\n",
              "  </thead>\n",
              "  <tbody>\n",
              "    <tr>\n",
              "      <th>0</th>\n",
              "      <td>Doutorado</td>\n",
              "      <td>2017</td>\n",
              "      <td>Recife</td>\n",
              "      <td>2</td>\n",
              "      <td>26</td>\n",
              "      <td>Masculino</td>\n",
              "      <td>Não</td>\n",
              "      <td>4</td>\n",
              "      <td>0</td>\n",
              "    </tr>\n",
              "    <tr>\n",
              "      <th>1</th>\n",
              "      <td>---</td>\n",
              "      <td>2017</td>\n",
              "      <td>Recife</td>\n",
              "      <td>3</td>\n",
              "      <td>26</td>\n",
              "      <td>Feminino</td>\n",
              "      <td>Não</td>\n",
              "      <td>4</td>\n",
              "      <td>0</td>\n",
              "    </tr>\n",
              "    <tr>\n",
              "      <th>2</th>\n",
              "      <td>Doutorado</td>\n",
              "      <td>2013</td>\n",
              "      <td>Natal</td>\n",
              "      <td>3</td>\n",
              "      <td>27</td>\n",
              "      <td>Masculino</td>\n",
              "      <td>Não</td>\n",
              "      <td>5</td>\n",
              "      <td>0</td>\n",
              "    </tr>\n",
              "    <tr>\n",
              "      <th>3</th>\n",
              "      <td>Doutorado</td>\n",
              "      <td>2014</td>\n",
              "      <td>Natal</td>\n",
              "      <td>3</td>\n",
              "      <td>26</td>\n",
              "      <td>Masculino</td>\n",
              "      <td>Não</td>\n",
              "      <td>4</td>\n",
              "      <td>0</td>\n",
              "    </tr>\n",
              "    <tr>\n",
              "      <th>4</th>\n",
              "      <td>Doutorado</td>\n",
              "      <td>2013</td>\n",
              "      <td>João Pessoa</td>\n",
              "      <td>2</td>\n",
              "      <td>---</td>\n",
              "      <td>Feminino</td>\n",
              "      <td>Não</td>\n",
              "      <td>0</td>\n",
              "      <td>0</td>\n",
              "    </tr>\n",
              "  </tbody>\n",
              "</table>\n",
              "</div>\n",
              "      <button class=\"colab-df-convert\" onclick=\"convertToInteractive('df-8ab9c830-15f7-4c64-ae4a-659ca14d3944')\"\n",
              "              title=\"Convert this dataframe to an interactive table.\"\n",
              "              style=\"display:none;\">\n",
              "        \n",
              "  <svg xmlns=\"http://www.w3.org/2000/svg\" height=\"24px\"viewBox=\"0 0 24 24\"\n",
              "       width=\"24px\">\n",
              "    <path d=\"M0 0h24v24H0V0z\" fill=\"none\"/>\n",
              "    <path d=\"M18.56 5.44l.94 2.06.94-2.06 2.06-.94-2.06-.94-.94-2.06-.94 2.06-2.06.94zm-11 1L8.5 8.5l.94-2.06 2.06-.94-2.06-.94L8.5 2.5l-.94 2.06-2.06.94zm10 10l.94 2.06.94-2.06 2.06-.94-2.06-.94-.94-2.06-.94 2.06-2.06.94z\"/><path d=\"M17.41 7.96l-1.37-1.37c-.4-.4-.92-.59-1.43-.59-.52 0-1.04.2-1.43.59L10.3 9.45l-7.72 7.72c-.78.78-.78 2.05 0 2.83L4 21.41c.39.39.9.59 1.41.59.51 0 1.02-.2 1.41-.59l7.78-7.78 2.81-2.81c.8-.78.8-2.07 0-2.86zM5.41 20L4 18.59l7.72-7.72 1.47 1.35L5.41 20z\"/>\n",
              "  </svg>\n",
              "      </button>\n",
              "      \n",
              "  <style>\n",
              "    .colab-df-container {\n",
              "      display:flex;\n",
              "      flex-wrap:wrap;\n",
              "      gap: 12px;\n",
              "    }\n",
              "\n",
              "    .colab-df-convert {\n",
              "      background-color: #E8F0FE;\n",
              "      border: none;\n",
              "      border-radius: 50%;\n",
              "      cursor: pointer;\n",
              "      display: none;\n",
              "      fill: #1967D2;\n",
              "      height: 32px;\n",
              "      padding: 0 0 0 0;\n",
              "      width: 32px;\n",
              "    }\n",
              "\n",
              "    .colab-df-convert:hover {\n",
              "      background-color: #E2EBFA;\n",
              "      box-shadow: 0px 1px 2px rgba(60, 64, 67, 0.3), 0px 1px 3px 1px rgba(60, 64, 67, 0.15);\n",
              "      fill: #174EA6;\n",
              "    }\n",
              "\n",
              "    [theme=dark] .colab-df-convert {\n",
              "      background-color: #3B4455;\n",
              "      fill: #D2E3FC;\n",
              "    }\n",
              "\n",
              "    [theme=dark] .colab-df-convert:hover {\n",
              "      background-color: #434B5C;\n",
              "      box-shadow: 0px 1px 3px 1px rgba(0, 0, 0, 0.15);\n",
              "      filter: drop-shadow(0px 1px 2px rgba(0, 0, 0, 0.3));\n",
              "      fill: #FFFFFF;\n",
              "    }\n",
              "  </style>\n",
              "\n",
              "      <script>\n",
              "        const buttonEl =\n",
              "          document.querySelector('#df-8ab9c830-15f7-4c64-ae4a-659ca14d3944 button.colab-df-convert');\n",
              "        buttonEl.style.display =\n",
              "          google.colab.kernel.accessAllowed ? 'block' : 'none';\n",
              "\n",
              "        async function convertToInteractive(key) {\n",
              "          const element = document.querySelector('#df-8ab9c830-15f7-4c64-ae4a-659ca14d3944');\n",
              "          const dataTable =\n",
              "            await google.colab.kernel.invokeFunction('convertToInteractive',\n",
              "                                                     [key], {});\n",
              "          if (!dataTable) return;\n",
              "\n",
              "          const docLinkHtml = 'Like what you see? Visit the ' +\n",
              "            '<a target=\"_blank\" href=https://colab.research.google.com/notebooks/data_table.ipynb>data table notebook</a>'\n",
              "            + ' to learn more about interactive tables.';\n",
              "          element.innerHTML = '';\n",
              "          dataTable['output_type'] = 'display_data';\n",
              "          await google.colab.output.renderOutput(dataTable, element);\n",
              "          const docLink = document.createElement('div');\n",
              "          docLink.innerHTML = docLinkHtml;\n",
              "          element.appendChild(docLink);\n",
              "        }\n",
              "      </script>\n",
              "    </div>\n",
              "  </div>\n",
              "  "
            ],
            "text/plain": [
              "  Escolaridade  Entrada       Cidade  ...  Projeto Experiência Feedbacks\n",
              "0    Doutorado     2017       Recife  ...      Não           4         0\n",
              "1          ---     2017       Recife  ...      Não           4         0\n",
              "2    Doutorado     2013        Natal  ...      Não           5         0\n",
              "3    Doutorado     2014        Natal  ...      Não           4         0\n",
              "4    Doutorado     2013  João Pessoa  ...      Não           0         0\n",
              "\n",
              "[5 rows x 9 columns]"
            ]
          },
          "metadata": {},
          "execution_count": 6
        }
      ]
    },
    {
      "cell_type": "markdown",
      "source": [
        "Podemos ver o motivos da culuna idade ser classificada como object: existem algumas entradas com \"--\". Isso pode significar a falta de dados, veja que o mesmo acontece com a coluna de Escolaridade."
      ],
      "metadata": {
        "id": "IxBqQGY1gT7s"
      }
    },
    {
      "cell_type": "markdown",
      "source": [
        "# Preparando uma vizualização automatizada para conjuntos categóricos e para conjuntos numéricos\n",
        "\n",
        "Vamos criar uma maneira de separar as colunas numéricas das categóricas e fazer análises voltadas a cada tipo de variável.\n",
        "\n"
      ],
      "metadata": {
        "id": "F5BWi2TMYncH"
      }
    },
    {
      "cell_type": "code",
      "source": [
        "coluna_numerica = treino.columns[treino.dtypes == \"int64\"] #Colunas de variáveis numericas\n",
        "coluna_object = treino.columns[treino.dtypes == \"object\"] #Colunas do tipo numéricas"
      ],
      "metadata": {
        "id": "Pejkdcxs6gyW"
      },
      "execution_count": 7,
      "outputs": []
    },
    {
      "cell_type": "code",
      "source": [
        "for i in treino.columns:\n",
        "  print(\"Coluna: \",i)\n",
        "  print(treino[i].value_counts(), \"\\n\")"
      ],
      "metadata": {
        "colab": {
          "base_uri": "https://localhost:8080/"
        },
        "id": "CW6gM3th65Ik",
        "outputId": "7c987937-ade5-45a7-92e0-af3058385b64"
      },
      "execution_count": 8,
      "outputs": [
        {
          "output_type": "stream",
          "name": "stdout",
          "text": [
            "Coluna:  Escolaridade\n",
            "Doutorado    2633\n",
            "---           283\n",
            "Name: Escolaridade, dtype: int64 \n",
            "\n",
            "Coluna:  Entrada\n",
            "2017    660\n",
            "2015    504\n",
            "2014    443\n",
            "2013    423\n",
            "2016    323\n",
            "2012    320\n",
            "2018    243\n",
            "Name: Entrada, dtype: int64 \n",
            "\n",
            "Coluna:  Cidade\n",
            "Natal          1393\n",
            "João Pessoa     816\n",
            "Recife          707\n",
            "Name: Cidade, dtype: int64 \n",
            "\n",
            "Coluna:  Salário\n",
            "3    2189\n",
            "2     572\n",
            "1     155\n",
            "Name: Salário, dtype: int64 \n",
            "\n",
            "Coluna:  Idade\n",
            "26     406\n",
            "27     391\n",
            "28     389\n",
            "25     260\n",
            "24     238\n",
            "---    159\n",
            "29     135\n",
            "30     130\n",
            "36      81\n",
            "38      80\n",
            "32      77\n",
            "34      74\n",
            "35      70\n",
            "40      70\n",
            "33      69\n",
            "39      66\n",
            "37      66\n",
            "31      65\n",
            "41      39\n",
            "22      30\n",
            "23      21\n",
            "Name: Idade, dtype: int64 \n",
            "\n",
            "Coluna:  Sexo\n",
            "Masculino    1752\n",
            "Feminino     1164\n",
            "Name: Sexo, dtype: int64 \n",
            "\n",
            "Coluna:  Projeto\n",
            "Não    2183\n",
            "---     429\n",
            "Sim     304\n",
            "Name: Projeto, dtype: int64 \n",
            "\n",
            "Coluna:  Experiência\n",
            "2    673\n",
            "4    599\n",
            "5    579\n",
            "3    497\n",
            "1    339\n",
            "0    222\n",
            "7      4\n",
            "6      3\n",
            "Name: Experiência, dtype: int64 \n",
            "\n",
            "Coluna:  Saiu\n",
            "0    1820\n",
            "1    1096\n",
            "Name: Saiu, dtype: int64 \n",
            "\n",
            "Coluna:  Feedbacks\n",
            "0    1770\n",
            "1     869\n",
            "2     231\n",
            "3      44\n",
            "4       2\n",
            "Name: Feedbacks, dtype: int64 \n",
            "\n"
          ]
        }
      ]
    },
    {
      "cell_type": "markdown",
      "source": [
        "Como não sabemos as procedencias ou como foi deita a coleta dos dados, vamos interpretar para este problema que todos os campos '--' são dados faltantes, e os trataremos como tal.\n",
        "\n",
        "Podemos observar que a coluna 'Escolaridade' existe apenas as categorias de 'Doutorado' e '--'. Isso nos indica que é uma coluna sem muita informação, pois conter uma unica categoria e dados faltantes não nos traz muitas informações. Devemos retirar essa coluna posteriormente.\n",
        "\n",
        "Vamos ressaltar aqui a coluna 'Salário', que indica quanto o funcionario ganha, sendo as categorias** 1 > 2 > 3**, então temos a maior parte de nossos funcionarios com salarios baixos.\n",
        "\n",
        "\n",
        "Para coluna 'Idade', também temos dados faltantes '--', e esse é o motivo dela ser interpretada pelo python como object ao inves de int. \n",
        "Notamos aqui que a maior parte de nossos funcionarios se encontram entre 24 e 30 anos, o que indica uma que muitos ainda são jovens, provavelmente em seu primeiro ou segundo emprego. Nessa faixa etária é comum a mudança de emprego.\n",
        "\n",
        "Nossos funcionários são em sua maioria Homens.\n",
        "\n",
        "Nossos dados indicam que a maioria nunca ficou sem prejetos, mesmo se incluissemos os dados faltantes.A coluna 'Projeto' indica se o funcionário já ficou mais de um mês sem atuar em nenhum projeto. \n",
        "\n",
        "A coluna 'Experiência' indica os anos de experiência de um funcionário. Nossos dados indicam que cerca de 20% deles tem 1 ano ou menos de experiência.\n",
        "\n",
        "A coluna 'Feedback' indica quantas avaliações negativas um funcionário teve. Aqui vemos que grande parte nunca recebeu um feedback negativo.\n",
        "\n",
        "Nossa coluna alvo 'Saiu' mostra que estamos lidando com um problema desbalanceado, onde existem mais funcionários que permaneceram em dois anos, dos que funcionários que sairam. \n",
        "Isso mostra que devemos nos ater a esse detalhe durante nossas análises, para não enviesarmos nossas conclusões.\n",
        "\n"
      ],
      "metadata": {
        "id": "K6iQ4KYO7Rpj"
      }
    },
    {
      "cell_type": "markdown",
      "source": [
        "#Vizualização Gráfica Categóricas"
      ],
      "metadata": {
        "id": "QsN1tA9AY0VT"
      }
    },
    {
      "cell_type": "code",
      "source": [
        "f, ax = plt.subplots(figsize=(20, 30))\n",
        "for i in range(len(coluna_object)):\n",
        "  plt.subplot(5,2,i+1)\n",
        "  sns.countplot(data = treino, y=coluna_object[i], hue='Saiu')"
      ],
      "metadata": {
        "colab": {
          "base_uri": "https://localhost:8080/",
          "height": 707
        },
        "id": "l2Wx5JhmCKWs",
        "outputId": "644ad4f5-c68b-40e1-e956-9a5fee39369d"
      },
      "execution_count": 9,
      "outputs": [
        {
          "output_type": "display_data",
          "data": {
            "image/png": "[encoded data removed]",
            "text/plain": [
              "<Figure size 1440x2160 with 5 Axes>"
            ]
          },
          "metadata": {
            "needs_background": "light"
          }
        }
      ]
    },
    {
      "cell_type": "markdown",
      "source": [
        "Na análise gráfica podemos identificar algumas características que podem influenciar nosso funcionário a permanecer na empresa, como ser da cidade de Natal ou de João Pessoa, ter entre 26 e 28 anos e ser do sexo masculino. Todas essas são tendências de nosso funcionário permanecer na empresa, mas não são garantias e ainda não sabemos se essas características estão relacionadas."
      ],
      "metadata": {
        "id": "curgctEcTBMp"
      }
    },
    {
      "cell_type": "markdown",
      "source": [
        "#Vizualização gráfica numericas"
      ],
      "metadata": {
        "id": "xQ_UufL5Y-Kp"
      }
    },
    {
      "cell_type": "code",
      "source": [
        "f, ax = plt.subplots(figsize=(20, 30))\n",
        "for i in range(len(coluna_numerica)):\n",
        "  plt.subplot(5,2,i+1)\n",
        "  sns.countplot(data = treino, y=coluna_numerica[i], hue='Saiu')"
      ],
      "metadata": {
        "colab": {
          "base_uri": "https://localhost:8080/",
          "height": 728
        },
        "id": "XH9VVW8eDxmm",
        "outputId": "d0cb62e6-f19d-4f17-c7c5-848cae94c5b4"
      },
      "execution_count": 10,
      "outputs": [
        {
          "output_type": "display_data",
          "data": {
            "image/png": "[encoded data removed]",
            "text/plain": [
              "<Figure size 1440x2160 with 5 Axes>"
            ]
          },
          "metadata": {
            "needs_background": "light"
          }
        }
      ]
    },
    {
      "cell_type": "markdown",
      "source": [
        "Para as colunas numéricas, podemos identificar de cara que aqueles funcionários que entraram na empresa em 2018 tem uma grande propensão a deixar a empresa nos proximos dois anos. Isso representa quase 10% do total da nossa base.\n",
        "Já nossos outros dados mostram uma tendência do nosso funcionário sair. Mas aqui devemos tomar muito cuidado, pois vale lembrar que estamos lidando com uma base de dados desbalanceada, e por isso é normal que alguns dados gráficos nos indiquem que mais clientes permeneceram do que sairam, pois é o viés que nossos dados tem. Todas os pontos levantados anterioemente foram com esse dado em mente."
      ],
      "metadata": {
        "id": "zBXdd2CjXMcs"
      }
    },
    {
      "cell_type": "markdown",
      "source": [
        "#Substituindo valores faltantes\n",
        "\n",
        "Vamos substituir os valores faltantes da coluna Idade pela parte inteira da Média.\n",
        "Atribuiremos esse valor também ao conjunto de teste, substintituindo os valores faltantes pela média do conjunto de treino. \n",
        "> Em geral esse é um problema de vazamento de dados, onde estamos utilizando os dados de treinamento no nosso conjunto de testes. Na prática, isso não afeta tanto nossos resultados, e sendo um erro controlado, onde temos ciência de sua existencia.\n",
        "\n",
        "Para a coluna 'Porjeto' substituiremos os valores faltantes pela moda. \n",
        "\n",
        "E descartaremos a coluna 'Escolaridade', então não precisamos mexer nos seus dados."
      ],
      "metadata": {
        "id": "1hXIt8r8ZGBn"
      }
    },
    {
      "cell_type": "code",
      "source": [
        "treino_media_idade = pd.to_numeric(treino[treino['Idade'] != '---']['Idade']).mean()#Pegando a média da coluna, sem contar os valores faltantes\n",
        "treino_media_idade = int(treino_media_idade) #pegando a parte inteira do valor gerado\n",
        "\n",
        "treino.Idade.replace('---', treino_media_idade, inplace=True)\n",
        "treino.Idade = pd.to_numeric(treino.Idade)#transformando em uma coluna numérica\n",
        "teste.Idade.replace('---', treino_media_idade, inplace=True)\n",
        "teste.Idade = pd.to_numeric(teste.Idade)#o mesmo para o conjunto de teste"
      ],
      "metadata": {
        "id": "njKg3316J3U1"
      },
      "execution_count": 18,
      "outputs": []
    },
    {
      "cell_type": "code",
      "source": [
        "treino_moda_projeto = treino['Projeto'].mode()#Pegando moda da coluna Projeto\n",
        "\n",
        "treino.Projeto.replace('---', treino_moda_projeto[0], inplace=True)\n",
        "teste.Projeto.replace('---', treino_moda_projeto[0], inplace=True)"
      ],
      "metadata": {
        "id": "I6V5EDgmMgP4"
      },
      "execution_count": 24,
      "outputs": []
    },
    {
      "cell_type": "code",
      "source": [
        "treino = treino.drop(['Escolaridade'], axis=1) \n",
        "teste = teste.drop(['Escolaridade'], axis=1) "
      ],
      "metadata": {
        "id": "wKdA8GFRPcw7"
      },
      "execution_count": 28,
      "outputs": []
    },
    {
      "cell_type": "markdown",
      "source": [
        "One-Hot-Encoding \n",
        "\n",
        "Nesta etapa vamos tranformar algumas colunas categórias em uma nova coluna para cada categoria. Isso nos garante a independência de cada categoria e uma maior clareza nos dados. Em contrapartida, essa abordagem pode acabar gerando mais dados a serem processados e uma maior complexidade das relações."
      ],
      "metadata": {
        "id": "2MTEkPLYZYdx"
      }
    },
    {
      "cell_type": "code",
      "source": [
        "# realiza da dummificação das variáveis\n",
        "treino = pd.get_dummies(treino, columns = ['Cidade', 'Entrada', 'Salário'], dtype=int)\n",
        "teste = pd.get_dummies(teste, columns = ['Cidade', 'Entrada', 'Salário'], dtype=int)"
      ],
      "metadata": {
        "id": "uFwyoH9HNyDw"
      },
      "execution_count": 26,
      "outputs": []
    },
    {
      "cell_type": "markdown",
      "source": [
        "Mapeando Colunas\n",
        "Aqui vamos mapear algumas categorias para valores numéricos. Para colunas com apenas duas categorias, uma categoria será representada por 1 e outra por 0.\n",
        "\n",
        "Vou aproveitar esse momento para inverter a ordinalidade da coluna Salário, onde as faixas de salários estão definidas como ' 1 > 2 > 3', irei inverter para que o salário 3, que é o menor seja representado por Zero."
      ],
      "metadata": {
        "id": "Nbm_4q6RZiOW"
      }
    },
    {
      "cell_type": "code",
      "source": [
        "treino['Sexo'] = treino['Sexo'].map({'Masculino': 0, 'Feminino':1})\n",
        "treino['Projeto'] = treino['Projeto'].map({'Não': 0, 'Sim':1})\n",
        "treino['Salário'] = treino['Salário'].map({3: 0, 2:1, 1:2})\n",
        "\n",
        "teste['Sexo'] = teste['Sexo'].map({'Masculino': 0, 'Feminino':1})\n",
        "teste['Projeto'] = teste['Projeto'].map({'Não': 0, 'Sim':1})\n",
        "teste['Salário'] = teste['Salário'].map({3: 0, 2:1, 1:2})"
      ],
      "metadata": {
        "id": "-X3GZB2GO-xP"
      },
      "execution_count": 25,
      "outputs": []
    },
    {
      "cell_type": "markdown",
      "source": [
        "Correlação de Colunas"
      ],
      "metadata": {
        "id": "BOXQXRB3ZtCA"
      }
    },
    {
      "cell_type": "code",
      "source": [
        "plt.figure(figsize=(15,8))\n",
        "treino.corr()['Saiu'].sort_values(ascending = False).plot(kind='bar')"
      ],
      "metadata": {
        "colab": {
          "base_uri": "https://localhost:8080/",
          "height": 560
        },
        "id": "qiFfq3BnPgVr",
        "outputId": "be37e1f4-2631-418b-807f-f7cf230581ac"
      },
      "execution_count": 29,
      "outputs": [
        {
          "output_type": "execute_result",
          "data": {
            "text/plain": [
              "<matplotlib.axes._subplots.AxesSubplot at 0x7f09f3339710>"
            ]
          },
          "metadata": {},
          "execution_count": 29
        },
        {
          "output_type": "display_data",
          "data": {
            "image/png": "[encoded data removed]",
            "text/plain": [
              "<Figure size 1080x576 with 1 Axes>"
            ]
          },
          "metadata": {
            "needs_background": "light"
          }
        }
      ]
    },
    {
      "cell_type": "markdown",
      "source": [
        "# Normalizando Valores\n",
        "\n",
        "Muitos algorítimos são sensíveis com valores altos e com colunas possuindo escalas diferentes de valores. Por isso vamos tentar deixar todos os valores das colunas entre 0 e 1."
      ],
      "metadata": {
        "id": "mgzj3bBEZkcg"
      }
    },
    {
      "cell_type": "code",
      "source": [
        "treino['Idade'] = treino['Idade']/41\n",
        "teste['Idade'] = teste['Idade']/41\n",
        "\n",
        "treino['Feedbacks'] = treino['Feedbacks']/4\n",
        "teste['Feedbacks'] = teste['Feedbacks']/4\n",
        "\n",
        "treino['Experiência'] = treino['Experiência']/7\n",
        "teste['Experiência'] = teste['Experiência']/7"
      ],
      "metadata": {
        "id": "Eq85rtSUPxm-"
      },
      "execution_count": null,
      "outputs": []
    },
    {
      "cell_type": "markdown",
      "source": [
        "# Métrica Alvo\n",
        "\n",
        "O método de avaliar o desempenho do modelo escolhido foi o F1-Socre, que consiste de uma média harmônica entre a precisão e a sensibilidade (duas outras métricas).\n",
        "O F1 é vantajoso em cenários com classes desbalanceadas e quando damos grande importância para os Falsos Negativos e Falsos Positivos, de forma que tentamos balancear o nosso modelo.\n",
        "\n",
        "Aqui temos uma matriz de confusão, que indica os erros e os acertos do nosso modelo, comparando com o resultado esperado.\n",
        "\n",
        "---\n",
        "<img src=\"https://miro.medium.com/max/1876/1*s7VB26Cfo1LdVZcLou-e0g.png\">\n",
        "\n",
        "---\n",
        "**Verdadeiro** é a predição correta do modelo. **Falso** é a precição errada do modelo.\n",
        "\n",
        "\n",
        ">Sendo a _precision_:\n",
        "\n",
        "$ precision = \\frac{Vp}{Vp + Fp}$\n",
        "\n",
        ">E o _recall_:  \n",
        "\n",
        "$ recall = \\frac{Vp}{Vp + Fn}$\n",
        "\n",
        "Por fim o F1-Score:\n",
        "$ F1 = 2.\\frac{precision.recall}{precision + recall}$"
      ],
      "metadata": {
        "id": "OLNNMKN4Z1GV"
      }
    },
    {
      "cell_type": "markdown",
      "source": [
        "# Método de Validação\n",
        "\n",
        "\n",
        "Para validação cruzada do modelo, vamos utilizar o K-Fold Estratificado, com k igual a 10 e repetindo 10 vezes o método. Isso nos traz resultados mais estaveis e confiáveis, do que se rodassemos o modelo apenas uma vez.\n",
        "\n",
        "O K-Fold separa o conjunto de dados K partes iguais, utilizando K-1 delas para treinamento e a parte K para validar (testar) o modelo. Repetindo o processo até que todas as K partições tenham sido utilizadas tanto para treinamento quanto para teste. \n"
      ],
      "metadata": {
        "id": "EQm-JKuEZ2rd"
      }
    },
    {
      "cell_type": "code",
      "source": [
        "validacao = RepeatedStratifiedKFold(n_splits = 10, n_repeats = 10)"
      ],
      "metadata": {
        "id": "ipk-z3Q1RZr0"
      },
      "execution_count": null,
      "outputs": []
    },
    {
      "cell_type": "markdown",
      "source": [
        "# Testandos alguns modelos\n",
        "\n",
        "Vamos testar uma gama de modelos e procurar aqueles que apresentam os melhores resultados.\n",
        "\n",
        "Quando temos  recursos computacionais, essa abordagem nos ajuda a decidir os modelos a serem utilizados com base em todo conjunto de treino. O que para uma grande base de dados isso seria inviável, devido ao tempo de processamento de cada modelo."
      ],
      "metadata": {
        "id": "FqBcCSQNZxp1"
      }
    },
    {
      "cell_type": "markdown",
      "source": [
        "Tunagem de Hiperparametros com GridSearch"
      ],
      "metadata": {
        "id": "yt6t2lWvZ-c1"
      }
    },
    {
      "cell_type": "markdown",
      "source": [
        "Combinaçãod de Modelos"
      ],
      "metadata": {
        "id": "PcP18dMXbn6L"
      }
    },
    {
      "cell_type": "markdown",
      "source": [
        "Conclusões"
      ],
      "metadata": {
        "id": "xJFEdmelbrTI"
      }
    },
    {
      "cell_type": "markdown",
      "source": [
        "proximos Passos"
      ],
      "metadata": {
        "id": "8l_bzqhobssp"
      }
    },
    {
      "cell_type": "code",
      "execution_count": null,
      "metadata": {
        "id": "KZb8yd6vXIUw"
      },
      "outputs": [],
      "source": [
        ""
      ]
    }
  ]
}